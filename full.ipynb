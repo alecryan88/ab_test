{
 "cells": [
  {
   "cell_type": "markdown",
   "metadata": {},
   "source": [
    "## A/B Testing "
   ]
  },
  {
   "cell_type": "code",
   "execution_count": null,
   "metadata": {},
   "outputs": [],
   "source": []
  },
  {
   "cell_type": "code",
   "execution_count": 557,
   "metadata": {},
   "outputs": [],
   "source": [
    "import random\n",
    "import pandas as pd\n",
    "import numpy as np\n",
    "from pprint import pprint\n",
    "import scipy.stats as st\n",
    "import matplotlib.pyplot as plt"
   ]
  },
  {
   "cell_type": "code",
   "execution_count": 558,
   "metadata": {},
   "outputs": [],
   "source": [
    "def stretch_numbers(num1, num2, n):\n",
    "    \"\"\"\n",
    "    Stretch two numbers into a list of n elements by linear interpolation.\n",
    "    \"\"\"\n",
    "    if n <= 2:\n",
    "        raise ValueError(\"n should be greater than 2 for stretching\")\n",
    "\n",
    "    step = (num2 - num1) / (n - 1)  # Calculate the step size for linear interpolation\n",
    "    stretched_list = [num1 + i * step for i in range(n)]  # Linearly interpolate between num1 and num2\n",
    "    return stretched_list"
   ]
  },
  {
   "cell_type": "code",
   "execution_count": 559,
   "metadata": {},
   "outputs": [],
   "source": [
    "def plot_ci(point_estimate, ub, lb):\n",
    "    x = stretch_numbers(-point_estimate*1.50, point_estimate*1.50, 5)\n",
    "    y = [1,1,1,1,1]\n",
    "\n",
    "    x_dmin = list([point_estimate])*5\n",
    "    y1 = [0,1,2,3,4]\n",
    "\n",
    "    x_neg_dmin = list([-point_estimate])*5\n",
    "    y1 = [0,1,2,3,4]\n",
    "\n",
    "    plt.figure(figsize=(8,4))\n",
    "\n",
    "    plt.plot(x, y, color = 'white')\n",
    "    plt.plot(stretch_numbers(0,0,5), stretch_numbers(0,4,5), color = 'black', linestyle='--')\n",
    "    #plt.plot(x_dmin, y1, color ='red',  linestyle='--')\n",
    "    #plt.plot(x_neg_dmin, y1, color ='red',  linestyle='--', label = 'Practical Significance Boundary')\n",
    "\n",
    "    #Plot CI\n",
    "    plt.plot(stretch_numbers(lb,ub,5), stretch_numbers(2,2,5), color ='blue',  linestyle='-')\n",
    "    plt.plot(stretch_numbers(lb,lb,5), stretch_numbers(2*.85,2*1.15,5), color ='blue',  linestyle='--')\n",
    "    plt.plot(stretch_numbers(ub,ub,5), stretch_numbers(2*.85,2*1.15,5), color ='blue',  linestyle='--', label ='Confidence Interval')\n",
    "\n",
    "    #Adding Point Estimate for \n",
    "    plt.scatter(point_estimate, 2, color='green', s=100, label='Point Estimate (d_hat)')\n",
    "\n",
    "    # Hide y-axis ticks\n",
    "    plt.yticks([]) \n",
    "\n",
    "    plt.title(\"Practical & Statistical Signifigance Boundaries for Hypothesis Test\")\n",
    "    # Adding legend\n",
    "    plt.legend(loc='upper right')\n",
    "\n",
    "    plt.show()"
   ]
  },
  {
   "cell_type": "code",
   "execution_count": 562,
   "metadata": {},
   "outputs": [],
   "source": [
    "def get_t_crit(dof, alpha):\n",
    "    t_crit = st.t.ppf(1 - alpha/2, dof)\n",
    "    return t_crit"
   ]
  },
  {
   "cell_type": "markdown",
   "metadata": {},
   "source": [
    "## Generating User Data"
   ]
  },
  {
   "cell_type": "code",
   "execution_count": 560,
   "metadata": {},
   "outputs": [],
   "source": [
    "user_list = []\n",
    "\n",
    "for i in list(range(1,1500+1)):\n",
    "    user_id = i\n",
    "    opens = random.randint(1, 100)\n",
    "    if i % 2 == 0:\n",
    "        variant = 'control' # Even \n",
    "        purchase_adjust = random.randint(-10, opens) * .95 # Discount control\n",
    "        if purchase_adjust <= 0:\n",
    "            purchases = 0\n",
    "        else:\n",
    "            purchases = purchase_adjust\n",
    "    else:\n",
    "        variant = 'treatment' # Odd\n",
    "        purchases = random.randint(0, opens) # Discount control\n",
    "\n",
    "    user = {\n",
    "        'user_id': user_id,\n",
    "        'opens': opens,\n",
    "        'purchases': purchases,\n",
    "        'variant': variant,\n",
    "        'purchaser': np.where(purchases >= 1, 1, 0),\n",
    "        'user': 1 \n",
    "    }\n",
    "\n",
    "    user_list.append(user)\n",
    "\n",
    "df = pd.DataFrame(user_list)    \n",
    "\n",
    "df['purchase_rate'] = df['purchases'] / df['opens']\n",
    "df['purchaser_prob'] = df['purchaser'] / df['user']\n",
    "\n",
    "treatment = df[df['variant'] == 'treatment']\n",
    "\n",
    "control = df[df['variant'] == 'control']"
   ]
  },
  {
   "cell_type": "code",
   "execution_count": 561,
   "metadata": {},
   "outputs": [
    {
     "data": {
      "text/html": [
       "<div>\n",
       "<style scoped>\n",
       "    .dataframe tbody tr th:only-of-type {\n",
       "        vertical-align: middle;\n",
       "    }\n",
       "\n",
       "    .dataframe tbody tr th {\n",
       "        vertical-align: top;\n",
       "    }\n",
       "\n",
       "    .dataframe thead th {\n",
       "        text-align: right;\n",
       "    }\n",
       "</style>\n",
       "<table border=\"1\" class=\"dataframe\">\n",
       "  <thead>\n",
       "    <tr style=\"text-align: right;\">\n",
       "      <th></th>\n",
       "      <th>variant</th>\n",
       "      <th>opens</th>\n",
       "      <th>purchases</th>\n",
       "      <th>purchase_rate</th>\n",
       "      <th>purchaser_prob</th>\n",
       "    </tr>\n",
       "  </thead>\n",
       "  <tbody>\n",
       "    <tr>\n",
       "      <th>0</th>\n",
       "      <td>control</td>\n",
       "      <td>38767</td>\n",
       "      <td>16168.05</td>\n",
       "      <td>0.378103</td>\n",
       "      <td>0.741333</td>\n",
       "    </tr>\n",
       "    <tr>\n",
       "      <th>1</th>\n",
       "      <td>treatment</td>\n",
       "      <td>37713</td>\n",
       "      <td>18936.00</td>\n",
       "      <td>0.509548</td>\n",
       "      <td>0.96</td>\n",
       "    </tr>\n",
       "  </tbody>\n",
       "</table>\n",
       "</div>"
      ],
      "text/plain": [
       "     variant  opens  purchases  purchase_rate purchaser_prob\n",
       "0    control  38767   16168.05       0.378103       0.741333\n",
       "1  treatment  37713   18936.00       0.509548           0.96"
      ]
     },
     "execution_count": 561,
     "metadata": {},
     "output_type": "execute_result"
    }
   ],
   "source": [
    "#Viewing Summary Metrics\n",
    "df.groupby('variant').agg({'opens': 'sum', 'purchases': 'sum', 'purchase_rate': 'mean', 'purchaser_prob': 'mean'}).reset_index()"
   ]
  },
  {
   "cell_type": "markdown",
   "metadata": {},
   "source": [
    "## Means"
   ]
  },
  {
   "cell_type": "markdown",
   "metadata": {},
   "source": [
    "Means typically work best when you are summing a continuous metric in the numerator and dividing by the randomization unit. The analysis unit here is typciallly equal to the randomization unit"
   ]
  },
  {
   "cell_type": "code",
   "execution_count": 563,
   "metadata": {},
   "outputs": [
    {
     "name": "stdout",
     "output_type": "stream",
     "text": [
      "{'confidence_interval': [1.401642509595768, 5.979557490404239],\n",
      " 'diff': 3.6906000000000034,\n",
      " 'mean_c': 21.557399999999998,\n",
      " 'mean_t': 25.248,\n",
      " 'n_c': 750,\n",
      " 'n_t': 750,\n",
      " 'pooled_std_err': 22.597179151998226,\n",
      " 'pooled_var': 1.1669133136927277,\n",
      " 't_crit': 1.9615488687508156,\n",
      " 't_stat': 3.1627027960808873}\n"
     ]
    },
    {
     "data": {
      "image/png": "[encoded data removed]",
      "text/plain": [
       "<Figure size 800x400 with 1 Axes>"
      ]
     },
     "metadata": {},
     "output_type": "display_data"
    }
   ],
   "source": [
    "alpha = 0.05 \n",
    "\n",
    "mean_t = np.mean(treatment.purchases)\n",
    "mean_c = np.mean(control.purchases)\n",
    "\n",
    "diff = mean_t - mean_c\n",
    "\n",
    "n_t = len((treatment.purchases))\n",
    "n_c = len((control.purchases))\n",
    "\n",
    "dof = n_t + n_c - 2 \n",
    "\n",
    "sse_t = np.sum((treatment.purchases - mean_t) ** 2)\n",
    "sse_c = np.sum((control.purchases - mean_c) ** 2)\n",
    "\n",
    "pooled_std_err = np.sqrt((sse_t + sse_c) / dof)\n",
    "pooled_var = pooled_std_err * np.sqrt(1/n_t + 1/n_c)\n",
    "\n",
    "t = diff / pooled_var\n",
    "\n",
    "t_crit = get_t_crit(dof, alpha)\n",
    "\n",
    "moe = pooled_var * t_crit\n",
    "\n",
    "lb = diff - moe\n",
    "ub = diff + moe\n",
    "\n",
    "result = {\n",
    "    'mean_t': mean_t,\n",
    "    'mean_c': mean_c,\n",
    "    'n_t': n_t,\n",
    "    'n_c': n_c,\n",
    "    'diff': diff,\n",
    "    'pooled_std_err': pooled_std_err,\n",
    "    'pooled_var': pooled_var,\n",
    "    't_stat': t,\n",
    "    't_crit': t_crit,\n",
    "    'confidence_interval': [lb, ub]\n",
    "}\n",
    "\n",
    "pprint(result)\n",
    "\n",
    "plot_ci(diff, ub, lb)\n"
   ]
  },
  {
   "cell_type": "markdown",
   "metadata": {},
   "source": [
    "## Proportions"
   ]
  },
  {
   "cell_type": "markdown",
   "metadata": {},
   "source": [
    "Proportions are used when we want to know the prob of a user/RU taking some action. For example: d7 retention,is_buyer, is_d7_buyer, etc. "
   ]
  },
  {
   "cell_type": "code",
   "execution_count": 564,
   "metadata": {},
   "outputs": [
    {
     "name": "stdout",
     "output_type": "stream",
     "text": [
      "{'confidence_interval': [0.18259231581713906, 0.2547410175161943],\n",
      " 'diff_prob': 0.21866666666666668,\n",
      " 'n_c': 750,\n",
      " 'n_t': 750,\n",
      " 'pooled_se': 0.01840528104567736,\n",
      " 'prob_c': 0.7413333333333333,\n",
      " 'prob_t': 0.96,\n",
      " 'x_c': 556,\n",
      " 'x_t': 720,\n",
      " 'z_crit': 1.96,\n",
      " 'z_stat': 11.880648066388664}\n"
     ]
    },
    {
     "data": {
      "image/png": "[encoded data removed]",
      "text/plain": [
       "<Figure size 800x400 with 1 Axes>"
      ]
     },
     "metadata": {},
     "output_type": "display_data"
    }
   ],
   "source": [
    "alpha = 0.05 \n",
    "critical_z = 1.96\n",
    "\n",
    "prob_t = np.sum(treatment.purchaser) / np.sum(treatment.user)\n",
    "prob_c = np.sum(control.purchaser) / np.sum(control.user)\n",
    "\n",
    "diff_prob = prob_t  - prob_c \n",
    "p_pool = (np.sum(treatment.purchaser) + np.sum(control.purchaser)) / (np.sum(control.user) + np.sum(treatment.user))\n",
    "\n",
    "pooled_se = np.sqrt(p_pool * (1-p_pool) * (1/n_t + 1/n_c)) \n",
    "\n",
    "z = diff_prob / pooled_se\n",
    "\n",
    "moe = pooled_se * critical_z\n",
    "\n",
    "lb = diff_prob - moe\n",
    "ub = diff_prob + moe\n",
    "\n",
    "result = {\n",
    "    'prob_t': prob_t,\n",
    "    'prob_c': prob_c,\n",
    "    'x_t': np.sum(treatment.purchaser),\n",
    "    'x_c': np.sum(control.purchaser),\n",
    "    'n_t': np.sum(treatment.user),\n",
    "    'n_c': np.sum(control.user),\n",
    "    'diff_prob': diff_prob,\n",
    "    'pooled_se': pooled_se,\n",
    "    'z_stat': z,\n",
    "    'z_crit': critical_z,\n",
    "    'confidence_interval': [lb, ub]\n",
    "}\n",
    "\n",
    "pprint(result)\n",
    "\n",
    "plot_ci(diff_prob, ub, lb)"
   ]
  },
  {
   "cell_type": "markdown",
   "metadata": {},
   "source": [
    "## Ratios"
   ]
  },
  {
   "cell_type": "markdown",
   "metadata": {},
   "source": [
    "Ratio metrics are metrics like: CTR, Purchase Rate, View Rate, etc. The idea is that the analysis unit (AU) is different from the randomization unit (RU). The RU is typically a user_id but in case like purchase rate the RU is a menu open (purchases / menu opens). In cases like this we can use the delta method to calculate the variance as outlined here: https://medium.com/@ahmadnuraziz3/applying-delta-method-for-a-b-tests-analysis-8b1d13411c22 . This is also mentioned and derived in TOCE"
   ]
  },
  {
   "cell_type": "code",
   "execution_count": 565,
   "metadata": {},
   "outputs": [],
   "source": [
    "#variance estimation of metrics ratio\n",
    "def var_ratio(x,y): #x/y\n",
    "    mean_x = np.mean(x)\n",
    "    mean_y = np.mean(y)\n",
    "    var_x = np.var(x,ddof=1)\n",
    "    var_y = np.var(y,ddof=1)\n",
    "    cov_xy = np.cov(x,y,ddof=1)[0][1]\n",
    "    result = (var_x/mean_x**2 + var_y/mean_y**2 - 2*cov_xy/(mean_x*mean_y))*(mean_x*mean_x)/(mean_y*mean_y*len(x))\n",
    "    return result"
   ]
  },
  {
   "cell_type": "code",
   "execution_count": 566,
   "metadata": {},
   "outputs": [
    {
     "name": "stdout",
     "output_type": "stream",
     "text": [
      "{'confidence_interval': [0.04977307990270785, 0.12032890683013886],\n",
      " 'rate_c': 0.41705703304356795,\n",
      " 'rate_diff': 0.08505099336642336,\n",
      " 'rate_t': 0.5021080264099913,\n",
      " 'std_err': 0.035277913463715505,\n",
      " 't_stat': 4.725334653639483,\n",
      " 'var': 0.000323961676997449}\n"
     ]
    },
    {
     "data": {
      "image/png": "[encoded data removed]",
      "text/plain": [
       "<Figure size 800x400 with 1 Axes>"
      ]
     },
     "metadata": {},
     "output_type": "display_data"
    }
   ],
   "source": [
    "alpha = 0.05\n",
    "t_crit = 1.96 \n",
    "\n",
    "rate_t = np.sum(treatment.purchases) / np.sum(treatment.opens)\n",
    "rate_c = np.sum(control.purchases) / np.sum(control.opens)\n",
    "\n",
    "rate_diff = rate_t - rate_c\n",
    "\n",
    "var_t = var_ratio(treatment.purchases, treatment.opens) \n",
    "var_c = var_ratio(control.purchases, control.opens) \n",
    "\n",
    "var = var_t + var_c \n",
    "stde = 1.96 * np.sqrt(var)\n",
    "\n",
    "lb = rate_diff - stde \n",
    "ub = rate_diff + stde\n",
    "t = rate_diff/np.sqrt(var)\n",
    "\n",
    "result = {\n",
    "    'rate_t': rate_t,\n",
    "    'rate_c': rate_c,   \n",
    "    'rate_diff': rate_diff,\n",
    "    'var': var,\n",
    "    'std_err': stde,\n",
    "    't_stat': t,\n",
    "    'confidence_interval': [lb, ub]\n",
    "}\n",
    "\n",
    "pprint(result)\n",
    "\n",
    "plot_ci(rate_diff, ub, lb)"
   ]
  },
  {
   "cell_type": "code",
   "execution_count": null,
   "metadata": {},
   "outputs": [],
   "source": []
  }
 ],
 "metadata": {
  "kernelspec": {
   "display_name": "venv",
   "language": "python",
   "name": "python3"
  },
  "language_info": {
   "codemirror_mode": {
    "name": "ipython",
    "version": 3
   },
   "file_extension": ".py",
   "mimetype": "text/x-python",
   "name": "python",
   "nbconvert_exporter": "python",
   "pygments_lexer": "ipython3",
   "version": "3.11.6"
  }
 },
 "nbformat": 4,
 "nbformat_minor": 2
}
