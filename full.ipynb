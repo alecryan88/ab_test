{
 "cells": [
  {
   "cell_type": "markdown",
   "metadata": {},
   "source": [
    "## A/B Testing "
   ]
  },
  {
   "cell_type": "markdown",
   "metadata": {},
   "source": [
    "Overview\n",
    "1. Problem statement\n",
    "    - What is the goal of the experiment\n",
    "2. Hypothesis Testing\n",
    "    - What is the result that you hypothesize from the experiment?\n",
    "3. Design the experiment\n",
    "    - What are the parameters? \n",
    "4. Run the experiment \n",
    "    - What are the requirements for running the experiment? \n",
    "5. Sanity Checks\n",
    "   - Did the experiment run correctly without errors or bias? \n",
    "6. Analyze results\n",
    "    - In which direction is the success metric significant statistically and practically?\n",
    "7. Launch Decision\n",
    "    - Based on the results and trade-offs, should the change launch? "
   ]
  },
  {
   "cell_type": "markdown",
   "metadata": {},
   "source": []
  }
 ],
 "metadata": {
  "kernelspec": {
   "display_name": "venv",
   "language": "python",
   "name": "python3"
  },
  "language_info": {
   "codemirror_mode": {
    "name": "ipython",
    "version": 3
   },
   "file_extension": ".py",
   "mimetype": "text/x-python",
   "name": "python",
   "nbconvert_exporter": "python",
   "pygments_lexer": "ipython3",
   "version": "3.11.6"
  }
 },
 "nbformat": 4,
 "nbformat_minor": 2
}
