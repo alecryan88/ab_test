{
 "cells": [
  {
   "cell_type": "code",
   "execution_count": 88,
   "metadata": {},
   "outputs": [],
   "source": [
    "from scipy.stats import norm\n",
    "import numpy as np"
   ]
  },
  {
   "cell_type": "markdown",
   "metadata": {},
   "source": [
    "Resources:\n",
    "- Trustworthy Online Controlled Experiments by Ron Kohavi: https://www.amazon.com/Trustworthy-Online-Controlled-Experiments-Practical/dp/1108724264 \n",
    "- Post from Ron Kohavi: https://www.linkedin.com/posts/ronnyk_abtest-statisticalpower-experimentguide-activity-6979146492221476864-P_wX?utm_source=share&utm_medium=member_desktop on the accuracy of a/b sample size calcs and why (most of the time) it does matter. Followed up by reply from post by Evan Miller https://www.linkedin.com/posts/evanmmiller_abtest-statisticalpower-experimentguide-activity-6980615725342179328-0P_E?utm_source=share&utm_medium=member_desktop who created one of the sample size calculators https://www.evanmiller.org/ab-testing/sample-size.html "
   ]
  },
  {
   "cell_type": "code",
   "execution_count": 89,
   "metadata": {},
   "outputs": [
    {
     "name": "stdout",
     "output_type": "stream",
     "text": [
      "Z-score for alpha 0.05 : 1.959963984540054\n"
     ]
    }
   ],
   "source": [
    "def z_score_for_alpha(alpha):\n",
    "    # Calculate the z-score corresponding to the alpha value\n",
    "    return norm.ppf(1 - alpha/2)\n",
    "\n",
    "alpha = 0.05  # Significance level (e.g., 0.05 for 95% confidence interval)\n",
    "z_score_alpha = z_score_for_alpha(alpha)\n",
    "print(\"Z-score for alpha\", alpha, \":\", z_score_alpha)"
   ]
  },
  {
   "cell_type": "code",
   "execution_count": 90,
   "metadata": {},
   "outputs": [
    {
     "name": "stdout",
     "output_type": "stream",
     "text": [
      "Z-score for beta 0.2 : 0.8416212335729143\n"
     ]
    }
   ],
   "source": [
    "def z_score_for_beta(beta):\n",
    "    # Calculate the z-score corresponding to the beta value\n",
    "    return norm.ppf(1 - beta)\n",
    "\n",
    "beta = 0.20 # 1 - power \n",
    "z_score_beta = z_score_for_beta(beta)\n",
    "print(\"Z-score for beta\", beta, \":\", z_score_beta)\n"
   ]
  },
  {
   "cell_type": "code",
   "execution_count": 91,
   "metadata": {},
   "outputs": [],
   "source": [
    "def sample_size_mean(mean, sigma, alpha, beta, delta, variant_num):\n",
    "    \n",
    "    z_alpha = z_score_for_alpha(alpha)\n",
    "    z_beta = z_score_for_beta(beta)\n",
    "    \n",
    "    # Rounded to the nearest whole number because partial users do not exist\n",
    "    n = round((2 * (sigma**2) * ((z_alpha + z_beta) ** 2)) / (delta**2))\n",
    "    \n",
    "    sample_size = variant_num * n\n",
    "    \n",
    "\n",
    "    print(f\"\"\"\n",
    "        You would need a minimum sample size of {sample_size} users ({n} users per variant)\n",
    "        to detect a {delta} unit change in the mean with a significance level of {alpha} and a power \n",
    "        of {1-beta}, assuming a baseline variance of {sigma**2} and mean of {mean}.\n",
    "        \n",
    "    \"\"\")\n",
    "    \n",
    "    \n",
    "    return sample_size"
   ]
  },
  {
   "cell_type": "code",
   "execution_count": 92,
   "metadata": {},
   "outputs": [],
   "source": [
    "def em_sample_size_proportion(alpha, beta, delta, variant_num, baseline_conversion, type='relative'):\n",
    "    \n",
    "    z_alpha = z_score_for_alpha(alpha)\n",
    "    z_beta = z_score_for_beta(beta)\n",
    "\n",
    "    if type == 'relative':\n",
    "        delta = delta * baseline_conversion\n",
    "    elif 'absolute':\n",
    "        delta\n",
    "\n",
    "    p1 = baseline_conversion\n",
    "    p2 = p1 + delta\n",
    "\n",
    "    #Sample size function\n",
    "    num = ((z_alpha * np.sqrt(2 * p1 * (1-p1)) ) + (z_beta * np.sqrt( (p1*(1-p1)) + (p2*(1-p2)) )))**2\n",
    "    dnm = abs(p2-p1) ** 2\n",
    "\n",
    "    #Get sample size per variant. Rounded to nearest whole number\n",
    "    n = round(num/dnm)\n",
    "\n",
    "    # Get total size\n",
    "    sample_size = variant_num * n\n",
    "    \n",
    "    print(f\"\"\"\n",
    "        You would need a minimum sample size of {sample_size} ({n} per variant)\n",
    "        to detect a {round(delta*100, 2)}% {type} change in conversion rate with a significance level of {alpha} and a power \n",
    "        of {1-beta}, assuming a baseline conversion rate of {baseline_conversion*100}%.\n",
    "        \n",
    "    \"\"\")\n",
    "    \n",
    "    return sample_size"
   ]
  },
  {
   "cell_type": "markdown",
   "metadata": {},
   "source": [
    "## Proportions\n",
    "\n",
    "You would use the proportion calculating when viewing a metric such as % of searches w/view, buyer%, etc. \n",
    "\n",
    "If we are calculating a proportion and have historical data we can use the historical rate to improve estimation. There is also the ability to determine sample size needed for a relative or absolute change in the rate. \n",
    "\n",
    "This uses the reccommended online calculator function here: https://www.evanmiller.org/ab-testing/sample-size.html "
   ]
  },
  {
   "cell_type": "code",
   "execution_count": 96,
   "metadata": {},
   "outputs": [
    {
     "name": "stdout",
     "output_type": "stream",
     "text": [
      "\n",
      "        You would need a minimum sample size of 13338 (6669 per variant)\n",
      "        to detect a 1.0% absolute change in conversion rate with a significance level of 0.05 and a power \n",
      "        of 0.8, assuming a baseline conversion rate of 4.3%.\n",
      "        \n",
      "    \n"
     ]
    }
   ],
   "source": [
    "#alpha: significange level, type 1 error rate (false positive).\n",
    "# Smaller alpoha = higher confidence level --> more samples\n",
    "alpha = 0.05\n",
    "\n",
    "#beta: Type 2 error rate (false negative) = 1 - power. Smaller beta = more power --> more samples reduces \n",
    "beta = 0.20\n",
    "\n",
    "#Delta: Miniumum detectable effect. What is the smallest change that is meaningful to the business. \n",
    "#The point of the experiment is to figure this out.\n",
    "#Smaller delta means smaller detectable effect --> more samples needed to detect change if change is more precise\n",
    "delta = .01\n",
    "\n",
    "#Basline conversion rate\n",
    "baseline_conversion = .043\n",
    "\n",
    "# Number of expriment groups \n",
    "variant_num = 2\n",
    "\n",
    "_= em_sample_size_proportion(alpha, beta, delta, variant_num, baseline_conversion, type='absolute')"
   ]
  },
  {
   "cell_type": "markdown",
   "metadata": {},
   "source": [
    "## Means \n",
    "\n",
    "We use the means formulas when calculating per user metrics (revenue per user, views per viewer, etc.)\n",
    "\n",
    "Calculation can be validated:\n",
    "- Using this online calculator: https://www.stat.ubc.ca/~rollin/stats/ssize/n2.html \n",
    "- Also, in Emma Ding's video on sample size estimation (includes formula): https://youtube.com/watch?v=FKPec6RoJOg "
   ]
  },
  {
   "cell_type": "code",
   "execution_count": 94,
   "metadata": {},
   "outputs": [
    {
     "name": "stdout",
     "output_type": "stream",
     "text": [
      "\n",
      "        You would need a minimum sample size of 113024 users (56512 users per variant)\n",
      "        to detect a 0.05 unit change in the mean with a significance level of 0.05 and a power \n",
      "        of 0.8, assuming a baseline variance of 9 and mean of 10.\n",
      "        \n",
      "    \n"
     ]
    }
   ],
   "source": [
    "#alpha: significange level, type 1 error rate (false positive).\n",
    "# Smaller alpha = higher confidence level --> more samples\n",
    "alpha = 0.05\n",
    "\n",
    "#beta: Type 2 error rate (false negative) = 1 - power. Smaller beta = more power --> more samples reduces \n",
    "beta = .20\n",
    "\n",
    "#Average of the control baseline\n",
    "baseline_mean = 10\n",
    "\n",
    "#Std Dev of control prior to running the experiment\n",
    "baseline_std_deviation = 3\n",
    "\n",
    "#Delta: Miniumum detectable effect. What is the smallest change that is meaningful to the business. \n",
    "#The point of the experiment is to figure this out.\n",
    "#Smaller delta means smaller detectable effect --> more samples needed to detect change if change is more precise. \n",
    "# This should be in same units as the mean or sigma\n",
    "delta = 0.05\n",
    "\n",
    "# Number of expriment groups \n",
    "variant_num = 2\n",
    "\n",
    "_= sample_size_mean(baseline_mean, baseline_std_deviation, alpha, beta, delta, variant_num)"
   ]
  },
  {
   "cell_type": "code",
   "execution_count": 101,
   "metadata": {},
   "outputs": [],
   "source": [
    "p=0\n",
    "sd= (0.0628 ** 2 ) * 1000\n",
    "#sd == p-p^2"
   ]
  },
  {
   "cell_type": "code",
   "execution_count": null,
   "metadata": {},
   "outputs": [],
   "source": []
  }
 ],
 "metadata": {
  "kernelspec": {
   "display_name": "venv",
   "language": "python",
   "name": "python3"
  },
  "language_info": {
   "codemirror_mode": {
    "name": "ipython",
    "version": 3
   },
   "file_extension": ".py",
   "mimetype": "text/x-python",
   "name": "python",
   "nbconvert_exporter": "python",
   "pygments_lexer": "ipython3",
   "version": "3.11.6"
  }
 },
 "nbformat": 4,
 "nbformat_minor": 2
}
